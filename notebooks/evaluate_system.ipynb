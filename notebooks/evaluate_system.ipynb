{
  "cells": [
    {
      "cell_type": "markdown",
      "metadata": {},
      "source": [
        "# Facial Authentication System - Comprehensive Evaluation\n",
        "\n",
        "This notebook evaluates all components of the facial authentication system including embedding quality, model comparison, ROC curves, and performance benchmarks.\n"
      ]
    },
    {
      "cell_type": "code",
      "execution_count": null,
      "metadata": {},
      "outputs": [],
      "source": [
        "import sys\n",
        "sys.path.append('..')\n",
        "\n",
        "import numpy as np\n",
        "import matplotlib.pyplot as plt\n",
        "import seaborn as sns\n",
        "import pandas as pd\n",
        "from pathlib import Path\n",
        "import time\n",
        "import cv2\n",
        "\n",
        "from app.models.face_detector import get_face_detector\n",
        "from app.models.face_aligner import get_face_aligner\n",
        "from app.models.embedding_extractor import get_embedding_extractor, cosine_similarity\n",
        "from app.models.fusion_model import get_fusion_model\n",
        "from app.models.liveness_detector import get_liveness_detector\n",
        "from app.utils.metrics import *\n",
        "from app.utils.visualization import *\n",
        "\n",
        "plt.style.use('seaborn-v0_8-darkgrid')\n",
        "sns.set_palette('husl')\n",
        "%matplotlib inline\n",
        "\n",
        "print(\"Setup complete!\")\n"
      ]
    }
  ],
  "metadata": {
    "language_info": {
      "name": "python"
    }
  },
  "nbformat": 4,
  "nbformat_minor": 2
}
